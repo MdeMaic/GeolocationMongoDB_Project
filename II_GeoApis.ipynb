{
 "cells": [
  {
   "cell_type": "code",
   "execution_count": 141,
   "metadata": {},
   "outputs": [],
   "source": [
    "from SRC.foursquare import exploreForesquare, searchForesquare\n",
    "from SRC.geofunc import *\n",
    "from SRC.mongofunc import connectMongoColl\n",
    "from geopy import distance\n",
    "\n",
    "from haversine import haversine\n",
    "# harvesine (lat,long) --> dist in km.\n",
    "\n",
    "import pandas as pd\n",
    "from pymongo import MongoClient\n",
    "import numpy as np"
   ]
  },
  {
   "cell_type": "markdown",
   "metadata": {},
   "source": [
    "# Geo_Apis\n",
    "### For the best value, let's see the situation of the rest of the filters\n",
    "---"
   ]
  },
  {
   "cell_type": "code",
   "execution_count": 133,
   "metadata": {},
   "outputs": [],
   "source": [
    "coord = [37.772323,-122.214897]"
   ]
  },
  {
   "cell_type": "markdown",
   "metadata": {},
   "source": [
    "## 1 | PARTY"
   ]
  },
  {
   "cell_type": "code",
   "execution_count": 21,
   "metadata": {},
   "outputs": [],
   "source": [
    "party = searchForesquare(ID=\"party\",limit=15,distance=500,latitude=37.772323,longitude=-122.214897)"
   ]
  },
  {
   "cell_type": "code",
   "execution_count": 22,
   "metadata": {},
   "outputs": [
    {
     "data": {
      "text/html": [
       "<div>\n",
       "<style scoped>\n",
       "    .dataframe tbody tr th:only-of-type {\n",
       "        vertical-align: middle;\n",
       "    }\n",
       "\n",
       "    .dataframe tbody tr th {\n",
       "        vertical-align: top;\n",
       "    }\n",
       "\n",
       "    .dataframe thead th {\n",
       "        text-align: right;\n",
       "    }\n",
       "</style>\n",
       "<table border=\"1\" class=\"dataframe\">\n",
       "  <thead>\n",
       "    <tr style=\"text-align: right;\">\n",
       "      <th></th>\n",
       "      <th>id</th>\n",
       "      <th>name</th>\n",
       "      <th>location</th>\n",
       "      <th>categories</th>\n",
       "      <th>referralId</th>\n",
       "      <th>hasPerk</th>\n",
       "    </tr>\n",
       "  </thead>\n",
       "  <tbody>\n",
       "    <tr>\n",
       "      <th>0</th>\n",
       "      <td>4e7e9edf8231243aa62dff89</td>\n",
       "      <td>Party Spot</td>\n",
       "      <td>{'lat': 37.776357, 'lng': -122.216319, 'labele...</td>\n",
       "      <td>[{'id': '4bf58dd8d48988d11a941735', 'name': 'O...</td>\n",
       "      <td>v-1581364090</td>\n",
       "      <td>False</td>\n",
       "    </tr>\n",
       "    <tr>\n",
       "      <th>1</th>\n",
       "      <td>4f40ad70e4b01e824ddddb6f</td>\n",
       "      <td>12th Street Lounge</td>\n",
       "      <td>{'address': '3700 E 12th St Fl 2', 'lat': 37.7...</td>\n",
       "      <td>[{'id': '4bf58dd8d48988d1d8941735', 'name': 'G...</td>\n",
       "      <td>v-1581364090</td>\n",
       "      <td>False</td>\n",
       "    </tr>\n",
       "    <tr>\n",
       "      <th>2</th>\n",
       "      <td>4ae687dff964a52013a721e3</td>\n",
       "      <td>La Frontera Nightclub</td>\n",
       "      <td>{'address': '4481 International Blvd', 'lat': ...</td>\n",
       "      <td>[{'id': '4bf58dd8d48988d118941735', 'name': 'D...</td>\n",
       "      <td>v-1581364090</td>\n",
       "      <td>False</td>\n",
       "    </tr>\n",
       "    <tr>\n",
       "      <th>3</th>\n",
       "      <td>4eaa7989e3000d1f05738cbb</td>\n",
       "      <td>The Bricks</td>\n",
       "      <td>{'lat': 37.773972, 'lng': -122.22118701487776,...</td>\n",
       "      <td>[{'id': '4bf58dd8d48988d1d6941735', 'name': 'S...</td>\n",
       "      <td>v-1581364090</td>\n",
       "      <td>False</td>\n",
       "    </tr>\n",
       "    <tr>\n",
       "      <th>4</th>\n",
       "      <td>4d42444a33268cfaa0465701</td>\n",
       "      <td>Mel's Loft</td>\n",
       "      <td>{'address': '4001 San Leandro St', 'crossStree...</td>\n",
       "      <td>[{'id': '4bf58dd8d48988d1d4941735', 'name': 'S...</td>\n",
       "      <td>v-1581364090</td>\n",
       "      <td>False</td>\n",
       "    </tr>\n",
       "  </tbody>\n",
       "</table>\n",
       "</div>"
      ],
      "text/plain": [
       "                         id                   name  \\\n",
       "0  4e7e9edf8231243aa62dff89             Party Spot   \n",
       "1  4f40ad70e4b01e824ddddb6f     12th Street Lounge   \n",
       "2  4ae687dff964a52013a721e3  La Frontera Nightclub   \n",
       "3  4eaa7989e3000d1f05738cbb             The Bricks   \n",
       "4  4d42444a33268cfaa0465701             Mel's Loft   \n",
       "\n",
       "                                            location  \\\n",
       "0  {'lat': 37.776357, 'lng': -122.216319, 'labele...   \n",
       "1  {'address': '3700 E 12th St Fl 2', 'lat': 37.7...   \n",
       "2  {'address': '4481 International Blvd', 'lat': ...   \n",
       "3  {'lat': 37.773972, 'lng': -122.22118701487776,...   \n",
       "4  {'address': '4001 San Leandro St', 'crossStree...   \n",
       "\n",
       "                                          categories    referralId  hasPerk  \n",
       "0  [{'id': '4bf58dd8d48988d11a941735', 'name': 'O...  v-1581364090    False  \n",
       "1  [{'id': '4bf58dd8d48988d1d8941735', 'name': 'G...  v-1581364090    False  \n",
       "2  [{'id': '4bf58dd8d48988d118941735', 'name': 'D...  v-1581364090    False  \n",
       "3  [{'id': '4bf58dd8d48988d1d6941735', 'name': 'S...  v-1581364090    False  \n",
       "4  [{'id': '4bf58dd8d48988d1d4941735', 'name': 'S...  v-1581364090    False  "
      ]
     },
     "execution_count": 22,
     "metadata": {},
     "output_type": "execute_result"
    }
   ],
   "source": [
    "dfparty = pd.DataFrame(party[\"response\"][\"venues\"])\n",
    "dfparty"
   ]
  },
  {
   "cell_type": "code",
   "execution_count": 72,
   "metadata": {},
   "outputs": [],
   "source": [
    "loc_party = []\n",
    "for i in dfparty.location:\n",
    "    loc_party.append([float(i['lat']),float(i['lng'])])"
   ]
  },
  {
   "cell_type": "code",
   "execution_count": 73,
   "metadata": {},
   "outputs": [
    {
     "data": {
      "text/plain": [
       "[[37.776357, -122.216319],\n",
       " [37.774036189028635, -122.22128921920071],\n",
       " [37.771166, -122.213862],\n",
       " [37.773972, -122.22118701487776],\n",
       " [37.771209000000006, -122.21972099999999]]"
      ]
     },
     "execution_count": 73,
     "metadata": {},
     "output_type": "execute_result"
    }
   ],
   "source": [
    "loc_party"
   ]
  },
  {
   "cell_type": "code",
   "execution_count": 74,
   "metadata": {},
   "outputs": [
    {
     "data": {
      "text/plain": [
       "['Party Spot',\n",
       " '12th Street Lounge',\n",
       " 'La Frontera Nightclub',\n",
       " 'The Bricks',\n",
       " \"Mel's Loft\"]"
      ]
     },
     "execution_count": 74,
     "metadata": {},
     "output_type": "execute_result"
    }
   ],
   "source": [
    "names = []\n",
    "for i in dfparty.name:\n",
    "    names.append(i)\n",
    "\n",
    "names\n",
    "    "
   ]
  },
  {
   "cell_type": "code",
   "execution_count": 75,
   "metadata": {},
   "outputs": [],
   "source": [
    "part =  dict(zip(names,loc_party))"
   ]
  },
  {
   "cell_type": "code",
   "execution_count": 81,
   "metadata": {},
   "outputs": [
    {
     "data": {
      "text/html": [
       "<div>\n",
       "<style scoped>\n",
       "    .dataframe tbody tr th:only-of-type {\n",
       "        vertical-align: middle;\n",
       "    }\n",
       "\n",
       "    .dataframe tbody tr th {\n",
       "        vertical-align: top;\n",
       "    }\n",
       "\n",
       "    .dataframe thead th {\n",
       "        text-align: right;\n",
       "    }\n",
       "</style>\n",
       "<table border=\"1\" class=\"dataframe\">\n",
       "  <thead>\n",
       "    <tr style=\"text-align: right;\">\n",
       "      <th></th>\n",
       "      <th>name</th>\n",
       "      <th>location</th>\n",
       "    </tr>\n",
       "  </thead>\n",
       "  <tbody>\n",
       "    <tr>\n",
       "      <th>0</th>\n",
       "      <td>Party Spot</td>\n",
       "      <td>{'type': 'Point', 'coordinates': [-122.216319,...</td>\n",
       "    </tr>\n",
       "    <tr>\n",
       "      <th>1</th>\n",
       "      <td>12th Street Lounge</td>\n",
       "      <td>{'type': 'Point', 'coordinates': [-122.2212892...</td>\n",
       "    </tr>\n",
       "    <tr>\n",
       "      <th>2</th>\n",
       "      <td>La Frontera Nightclub</td>\n",
       "      <td>{'type': 'Point', 'coordinates': [-122.213862,...</td>\n",
       "    </tr>\n",
       "    <tr>\n",
       "      <th>3</th>\n",
       "      <td>The Bricks</td>\n",
       "      <td>{'type': 'Point', 'coordinates': [-122.2211870...</td>\n",
       "    </tr>\n",
       "    <tr>\n",
       "      <th>4</th>\n",
       "      <td>Mel's Loft</td>\n",
       "      <td>{'type': 'Point', 'coordinates': [-122.2197209...</td>\n",
       "    </tr>\n",
       "  </tbody>\n",
       "</table>\n",
       "</div>"
      ],
      "text/plain": [
       "                    name                                           location\n",
       "0             Party Spot  {'type': 'Point', 'coordinates': [-122.216319,...\n",
       "1     12th Street Lounge  {'type': 'Point', 'coordinates': [-122.2212892...\n",
       "2  La Frontera Nightclub  {'type': 'Point', 'coordinates': [-122.213862,...\n",
       "3             The Bricks  {'type': 'Point', 'coordinates': [-122.2211870...\n",
       "4             Mel's Loft  {'type': 'Point', 'coordinates': [-122.2197209..."
      ]
     },
     "metadata": {},
     "output_type": "display_data"
    }
   ],
   "source": [
    "dfparty = pd.DataFrame(part)\n",
    "dfparty = dfparty.T.reset_index().rename(columns={\"index\":\"name\",0: \"latitude\", 1: \"longitude\"})\n",
    "dfparty[\"location\"] = dfparty[[\"latitude\",\"longitude\"]].apply(lambda x:asGeoJSON(x.latitude,x.longitude), axis=1)\n",
    "dfparty = dfparty.drop(columns=[\"latitude\",\"longitude\"])\n",
    "display(dfparty)"
   ]
  },
  {
   "cell_type": "markdown",
   "metadata": {},
   "source": [
    "## 2 | Starbucks"
   ]
  },
  {
   "cell_type": "code",
   "execution_count": 123,
   "metadata": {},
   "outputs": [
    {
     "data": {
      "text/html": [
       "<div>\n",
       "<style scoped>\n",
       "    .dataframe tbody tr th:only-of-type {\n",
       "        vertical-align: middle;\n",
       "    }\n",
       "\n",
       "    .dataframe tbody tr th {\n",
       "        vertical-align: top;\n",
       "    }\n",
       "\n",
       "    .dataframe thead th {\n",
       "        text-align: right;\n",
       "    }\n",
       "</style>\n",
       "<table border=\"1\" class=\"dataframe\">\n",
       "  <thead>\n",
       "    <tr style=\"text-align: right;\">\n",
       "      <th></th>\n",
       "      <th>Brand</th>\n",
       "      <th>Store Number</th>\n",
       "      <th>Name</th>\n",
       "      <th>Ownership Type</th>\n",
       "      <th>Facility ID</th>\n",
       "      <th>Features - Products</th>\n",
       "      <th>Features - Service</th>\n",
       "      <th>Features - Stations</th>\n",
       "      <th>Food Region</th>\n",
       "      <th>Venue Type</th>\n",
       "      <th>...</th>\n",
       "      <th>Street Line 1</th>\n",
       "      <th>Street Line 2</th>\n",
       "      <th>City</th>\n",
       "      <th>State</th>\n",
       "      <th>Zip</th>\n",
       "      <th>Country</th>\n",
       "      <th>Coordinates</th>\n",
       "      <th>Latitude</th>\n",
       "      <th>Longitude</th>\n",
       "      <th>Insert Date</th>\n",
       "    </tr>\n",
       "  </thead>\n",
       "  <tbody>\n",
       "    <tr>\n",
       "      <th>0</th>\n",
       "      <td>Starbucks</td>\n",
       "      <td>11854</td>\n",
       "      <td>Epping Main St</td>\n",
       "      <td>Company Owned</td>\n",
       "      <td>18228</td>\n",
       "      <td>Lunch, Oven-warmed Food, Reserve Amenity</td>\n",
       "      <td>Starbucks Card Mobile, Wireless Hotspot</td>\n",
       "      <td>Drive-Through</td>\n",
       "      <td>9999</td>\n",
       "      <td>Unknown</td>\n",
       "      <td>...</td>\n",
       "      <td>96 Calef Highway</td>\n",
       "      <td>NaN</td>\n",
       "      <td>Epping</td>\n",
       "      <td>NH</td>\n",
       "      <td>03042-2224</td>\n",
       "      <td>US</td>\n",
       "      <td>(43.031873, -71.073203)</td>\n",
       "      <td>43.031873</td>\n",
       "      <td>-71.073203</td>\n",
       "      <td>06/22/2012 06:17:10 PM</td>\n",
       "    </tr>\n",
       "    <tr>\n",
       "      <th>1</th>\n",
       "      <td>Starbucks</td>\n",
       "      <td>79420</td>\n",
       "      <td>Stop &amp; Shop-Exeter #204</td>\n",
       "      <td>Licensed</td>\n",
       "      <td>9956</td>\n",
       "      <td>NaN</td>\n",
       "      <td>Wireless Hotspot</td>\n",
       "      <td>NaN</td>\n",
       "      <td>9999</td>\n",
       "      <td>Unknown</td>\n",
       "      <td>...</td>\n",
       "      <td>139 Portsmouth Ave</td>\n",
       "      <td>NaN</td>\n",
       "      <td>Exeter</td>\n",
       "      <td>NH</td>\n",
       "      <td>03833-2105</td>\n",
       "      <td>US</td>\n",
       "      <td>(42.989763, -70.932044)</td>\n",
       "      <td>42.989763</td>\n",
       "      <td>-70.932044</td>\n",
       "      <td>06/22/2012 06:17:10 PM</td>\n",
       "    </tr>\n",
       "    <tr>\n",
       "      <th>2</th>\n",
       "      <td>Starbucks</td>\n",
       "      <td>3872</td>\n",
       "      <td>Target Greenland T-2530</td>\n",
       "      <td>Licensed</td>\n",
       "      <td>10933</td>\n",
       "      <td>NaN</td>\n",
       "      <td>Starbucks Card Mobile</td>\n",
       "      <td>NaN</td>\n",
       "      <td>9999</td>\n",
       "      <td>Unknown</td>\n",
       "      <td>...</td>\n",
       "      <td>1450 Greenland Rd</td>\n",
       "      <td>NaN</td>\n",
       "      <td>Greenland</td>\n",
       "      <td>NH</td>\n",
       "      <td>03840-2438</td>\n",
       "      <td>US</td>\n",
       "      <td>(43.04871, -70.816345)</td>\n",
       "      <td>43.048710</td>\n",
       "      <td>-70.816345</td>\n",
       "      <td>06/22/2012 06:17:10 PM</td>\n",
       "    </tr>\n",
       "    <tr>\n",
       "      <th>3</th>\n",
       "      <td>Starbucks</td>\n",
       "      <td>13448</td>\n",
       "      <td>Seabrook, Lafayette Rd</td>\n",
       "      <td>Company Owned</td>\n",
       "      <td>16980</td>\n",
       "      <td>Lunch, Oven-warmed Food, Reserve Amenity, Sire...</td>\n",
       "      <td>Starbucks Card Mobile, Wireless Hotspot</td>\n",
       "      <td>Drive-Through</td>\n",
       "      <td>9999</td>\n",
       "      <td>Unknown</td>\n",
       "      <td>...</td>\n",
       "      <td>271 Lafayette Rd</td>\n",
       "      <td>NaN</td>\n",
       "      <td>Seabrook</td>\n",
       "      <td>NH</td>\n",
       "      <td>03874-4512</td>\n",
       "      <td>US</td>\n",
       "      <td>(42.882128, -70.86808)</td>\n",
       "      <td>42.882128</td>\n",
       "      <td>-70.868080</td>\n",
       "      <td>06/22/2012 06:17:10 PM</td>\n",
       "    </tr>\n",
       "    <tr>\n",
       "      <th>4</th>\n",
       "      <td>Starbucks</td>\n",
       "      <td>10325</td>\n",
       "      <td>Portsmouth, Woodbury Avenue</td>\n",
       "      <td>Company Owned</td>\n",
       "      <td>17269</td>\n",
       "      <td>Lunch, Oven-warmed Food, Reserve Amenity</td>\n",
       "      <td>Starbucks Card Mobile, Wireless Hotspot</td>\n",
       "      <td>Drive-Through</td>\n",
       "      <td>9999</td>\n",
       "      <td>Unknown</td>\n",
       "      <td>...</td>\n",
       "      <td>1855 Woodbury Avenue</td>\n",
       "      <td>NaN</td>\n",
       "      <td>Portsmouth</td>\n",
       "      <td>NH</td>\n",
       "      <td>03801-3228</td>\n",
       "      <td>US</td>\n",
       "      <td>(43.092318, -70.792327)</td>\n",
       "      <td>43.092318</td>\n",
       "      <td>-70.792327</td>\n",
       "      <td>06/22/2012 06:17:10 PM</td>\n",
       "    </tr>\n",
       "  </tbody>\n",
       "</table>\n",
       "<p>5 rows × 23 columns</p>\n",
       "</div>"
      ],
      "text/plain": [
       "       Brand  Store Number                         Name Ownership Type  \\\n",
       "0  Starbucks         11854               Epping Main St  Company Owned   \n",
       "1  Starbucks         79420      Stop & Shop-Exeter #204       Licensed   \n",
       "2  Starbucks          3872      Target Greenland T-2530       Licensed   \n",
       "3  Starbucks         13448       Seabrook, Lafayette Rd  Company Owned   \n",
       "4  Starbucks         10325  Portsmouth, Woodbury Avenue  Company Owned   \n",
       "\n",
       "   Facility ID                                Features - Products  \\\n",
       "0        18228           Lunch, Oven-warmed Food, Reserve Amenity   \n",
       "1         9956                                                NaN   \n",
       "2        10933                                                NaN   \n",
       "3        16980  Lunch, Oven-warmed Food, Reserve Amenity, Sire...   \n",
       "4        17269           Lunch, Oven-warmed Food, Reserve Amenity   \n",
       "\n",
       "                        Features - Service Features - Stations  Food Region  \\\n",
       "0  Starbucks Card Mobile, Wireless Hotspot       Drive-Through         9999   \n",
       "1                         Wireless Hotspot                 NaN         9999   \n",
       "2                    Starbucks Card Mobile                 NaN         9999   \n",
       "3  Starbucks Card Mobile, Wireless Hotspot       Drive-Through         9999   \n",
       "4  Starbucks Card Mobile, Wireless Hotspot       Drive-Through         9999   \n",
       "\n",
       "  Venue Type  ...         Street Line 1 Street Line 2        City State  \\\n",
       "0    Unknown  ...      96 Calef Highway           NaN      Epping    NH   \n",
       "1    Unknown  ...    139 Portsmouth Ave           NaN      Exeter    NH   \n",
       "2    Unknown  ...     1450 Greenland Rd           NaN   Greenland    NH   \n",
       "3    Unknown  ...      271 Lafayette Rd           NaN    Seabrook    NH   \n",
       "4    Unknown  ...  1855 Woodbury Avenue           NaN  Portsmouth    NH   \n",
       "\n",
       "          Zip Country              Coordinates   Latitude  Longitude  \\\n",
       "0  03042-2224      US  (43.031873, -71.073203)  43.031873 -71.073203   \n",
       "1  03833-2105      US  (42.989763, -70.932044)  42.989763 -70.932044   \n",
       "2  03840-2438      US   (43.04871, -70.816345)  43.048710 -70.816345   \n",
       "3  03874-4512      US   (42.882128, -70.86808)  42.882128 -70.868080   \n",
       "4  03801-3228      US  (43.092318, -70.792327)  43.092318 -70.792327   \n",
       "\n",
       "              Insert Date  \n",
       "0  06/22/2012 06:17:10 PM  \n",
       "1  06/22/2012 06:17:10 PM  \n",
       "2  06/22/2012 06:17:10 PM  \n",
       "3  06/22/2012 06:17:10 PM  \n",
       "4  06/22/2012 06:17:10 PM  \n",
       "\n",
       "[5 rows x 23 columns]"
      ]
     },
     "execution_count": 123,
     "metadata": {},
     "output_type": "execute_result"
    }
   ],
   "source": [
    "dfst = pd.read_csv(\"INPUT/starbucks.csv\")\n",
    "dfst.head()"
   ]
  },
  {
   "cell_type": "code",
   "execution_count": 125,
   "metadata": {},
   "outputs": [
    {
     "data": {
      "text/html": [
       "<div>\n",
       "<style scoped>\n",
       "    .dataframe tbody tr th:only-of-type {\n",
       "        vertical-align: middle;\n",
       "    }\n",
       "\n",
       "    .dataframe tbody tr th {\n",
       "        vertical-align: top;\n",
       "    }\n",
       "\n",
       "    .dataframe thead th {\n",
       "        text-align: right;\n",
       "    }\n",
       "</style>\n",
       "<table border=\"1\" class=\"dataframe\">\n",
       "  <thead>\n",
       "    <tr style=\"text-align: right;\">\n",
       "      <th></th>\n",
       "      <th>Brand</th>\n",
       "      <th>Name</th>\n",
       "      <th>State</th>\n",
       "      <th>location</th>\n",
       "    </tr>\n",
       "  </thead>\n",
       "  <tbody>\n",
       "    <tr>\n",
       "      <th>0</th>\n",
       "      <td>Starbucks</td>\n",
       "      <td>Epping Main St</td>\n",
       "      <td>NH</td>\n",
       "      <td>{'type': 'Point', 'coordinates': [-71.073203, ...</td>\n",
       "    </tr>\n",
       "    <tr>\n",
       "      <th>1</th>\n",
       "      <td>Starbucks</td>\n",
       "      <td>Stop &amp; Shop-Exeter #204</td>\n",
       "      <td>NH</td>\n",
       "      <td>{'type': 'Point', 'coordinates': [-70.93204399...</td>\n",
       "    </tr>\n",
       "    <tr>\n",
       "      <th>2</th>\n",
       "      <td>Starbucks</td>\n",
       "      <td>Target Greenland T-2530</td>\n",
       "      <td>NH</td>\n",
       "      <td>{'type': 'Point', 'coordinates': [-70.816345, ...</td>\n",
       "    </tr>\n",
       "    <tr>\n",
       "      <th>3</th>\n",
       "      <td>Starbucks</td>\n",
       "      <td>Seabrook, Lafayette Rd</td>\n",
       "      <td>NH</td>\n",
       "      <td>{'type': 'Point', 'coordinates': [-70.86808, 4...</td>\n",
       "    </tr>\n",
       "    <tr>\n",
       "      <th>4</th>\n",
       "      <td>Starbucks</td>\n",
       "      <td>Portsmouth, Woodbury Avenue</td>\n",
       "      <td>NH</td>\n",
       "      <td>{'type': 'Point', 'coordinates': [-70.792327, ...</td>\n",
       "    </tr>\n",
       "  </tbody>\n",
       "</table>\n",
       "</div>"
      ],
      "text/plain": [
       "       Brand                         Name State  \\\n",
       "0  Starbucks               Epping Main St    NH   \n",
       "1  Starbucks      Stop & Shop-Exeter #204    NH   \n",
       "2  Starbucks      Target Greenland T-2530    NH   \n",
       "3  Starbucks       Seabrook, Lafayette Rd    NH   \n",
       "4  Starbucks  Portsmouth, Woodbury Avenue    NH   \n",
       "\n",
       "                                            location  \n",
       "0  {'type': 'Point', 'coordinates': [-71.073203, ...  \n",
       "1  {'type': 'Point', 'coordinates': [-70.93204399...  \n",
       "2  {'type': 'Point', 'coordinates': [-70.816345, ...  \n",
       "3  {'type': 'Point', 'coordinates': [-70.86808, 4...  \n",
       "4  {'type': 'Point', 'coordinates': [-70.792327, ...  "
      ]
     },
     "execution_count": 125,
     "metadata": {},
     "output_type": "execute_result"
    }
   ],
   "source": [
    "dfst[\"location\"] = dfst[[\"Latitude\",\"Longitude\"]].apply(lambda x:asGeoJSON(x.Latitude,x.Longitude), axis=1)\n",
    "dfst = dfst.loc[:, ['Brand', 'Name', \"State\",'location']]\n",
    "dfst.head()"
   ]
  },
  {
   "cell_type": "code",
   "execution_count": 135,
   "metadata": {},
   "outputs": [],
   "source": [
    "val=[]\n",
    "for i in dfst.location:\n",
    "    if haversine(coord,i[\"coordinates\"]) < 50:\n",
    "        val.append(\"YES\")\n",
    "    else:\n",
    "        val.append(\"NO\")\n",
    "        \n",
    "dfst.loc[:, \"near_point\"] = val\n"
   ]
  },
  {
   "cell_type": "code",
   "execution_count": 139,
   "metadata": {},
   "outputs": [],
   "source": [
    "dfst.to_json(\"OUTPUT/Starbucks.json\", orient=\"records\")\n",
    "# $ mongoimport --db starbucks --collection starbucks --jsonArray --drop OUTPUT/Starbucks.json"
   ]
  },
  {
   "cell_type": "code",
   "execution_count": 160,
   "metadata": {},
   "outputs": [],
   "source": [
    "db, collst = connectMongoColl('starbucks','starbucks')"
   ]
  },
  {
   "cell_type": "code",
   "execution_count": 154,
   "metadata": {},
   "outputs": [],
   "source": [
    "result = collst.aggregate([\n",
    "    {\n",
    "        '$geoNear': {\n",
    "            'near': {\n",
    "                'type': 'Point', \n",
    "                'coordinates': [\n",
    "                    -122.214897, 37.772323\n",
    "                ]\n",
    "            }, \n",
    "            'distanceField': 'dist.calculated', \n",
    "            'minDistance': 2, \n",
    "            'spherical': True\n",
    "        }\n",
    "    }\n",
    "])"
   ]
  },
  {
   "cell_type": "code",
   "execution_count": 157,
   "metadata": {},
   "outputs": [],
   "source": [
    "# COMO SE HACE ESTO!!!!!"
   ]
  },
  {
   "cell_type": "code",
   "execution_count": 169,
   "metadata": {},
   "outputs": [],
   "source": [
    "db, collst_dist = connectMongoColl('starbucks','starbucks_dist')"
   ]
  },
  {
   "cell_type": "code",
   "execution_count": 172,
   "metadata": {},
   "outputs": [
    {
     "data": {
      "text/html": [
       "<div>\n",
       "<style scoped>\n",
       "    .dataframe tbody tr th:only-of-type {\n",
       "        vertical-align: middle;\n",
       "    }\n",
       "\n",
       "    .dataframe tbody tr th {\n",
       "        vertical-align: top;\n",
       "    }\n",
       "\n",
       "    .dataframe thead th {\n",
       "        text-align: right;\n",
       "    }\n",
       "</style>\n",
       "<table border=\"1\" class=\"dataframe\">\n",
       "  <thead>\n",
       "    <tr style=\"text-align: right;\">\n",
       "      <th></th>\n",
       "    </tr>\n",
       "  </thead>\n",
       "  <tbody>\n",
       "  </tbody>\n",
       "</table>\n",
       "</div>"
      ],
      "text/plain": [
       "Empty DataFrame\n",
       "Columns: []\n",
       "Index: []"
      ]
     },
     "execution_count": 172,
     "metadata": {},
     "output_type": "execute_result"
    }
   ],
   "source": [
    "filt = {\"Brand\":1,\"State\":1,\"location\":1,\"dist\":1}\n",
    "starb = list(collst_dist.find({\"dist.calculated\":{\"$lte\":10000}},filt))\n",
    "df = pd.DataFrame(starb)\n",
    "df"
   ]
  },
  {
   "cell_type": "code",
   "execution_count": 173,
   "metadata": {},
   "outputs": [],
   "source": [
    "#POR QUÉ NO FUNCIONA!"
   ]
  },
  {
   "cell_type": "code",
   "execution_count": null,
   "metadata": {},
   "outputs": [],
   "source": []
  }
 ],
 "metadata": {
  "kernelspec": {
   "display_name": "Python 3",
   "language": "python",
   "name": "python3"
  },
  "language_info": {
   "codemirror_mode": {
    "name": "ipython",
    "version": 3
   },
   "file_extension": ".py",
   "mimetype": "text/x-python",
   "name": "python",
   "nbconvert_exporter": "python",
   "pygments_lexer": "ipython3",
   "version": "3.7.6"
  }
 },
 "nbformat": 4,
 "nbformat_minor": 2
}
